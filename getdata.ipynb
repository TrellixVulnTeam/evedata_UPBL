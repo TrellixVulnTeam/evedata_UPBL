{
 "cells": [
  {
   "cell_type": "code",
   "execution_count": 4,
   "metadata": {
    "collapsed": true,
    "pycharm": {
     "name": "#%%\n"
    }
   },
   "outputs": [],
   "source": [
    "import itertools\n",
    "from concurrent.futures.thread import ThreadPoolExecutor\n",
    "import requests\n",
    "import pandas as pd\n",
    "from sqlalchemy import MetaData, create_engine\n",
    "import networkx as nx\n",
    "import math"
   ]
  },
  {
   "cell_type": "markdown",
   "source": [
    "# System Data"
   ],
   "metadata": {
    "collapsed": false
   }
  },
  {
   "cell_type": "code",
   "execution_count": 5,
   "outputs": [],
   "source": [
    "engine = create_engine('sqlite:///eve.db')\n",
    "connection = engine.connect()\n",
    "metadata = MetaData()"
   ],
   "metadata": {
    "collapsed": false,
    "pycharm": {
     "name": "#%%\n"
    }
   }
  },
  {
   "cell_type": "code",
   "execution_count": 6,
   "outputs": [],
   "source": [
    "def system(id):\n",
    "    data = requests.get(f'https://esi.evetech.net/latest/universe/systems/{id}/?datasource=tranquility&language=en').json()\n",
    "    systemdict = {}\n",
    "    systemdict['system_id'] = data['system_id']\n",
    "    systemdict['name'] = data['name']\n",
    "    systemdict['constellation_id'] = data['constellation_id']\n",
    "    systemdict['security_status'] = data['security_status']\n",
    "    systemdict['x'] = data['position']['x']\n",
    "    systemdict['y'] = data['position']['y']\n",
    "    systemdict['z'] = data['position']['z']\n",
    "    return systemdict\n",
    "\n",
    "def getsystems(systems):\n",
    "    with ThreadPoolExecutor() as tp:\n",
    "        results = tp.map(system,systems)\n",
    "        return [result for result in results]\n",
    "\n",
    "\n",
    "r = requests.get('https://esi.evetech.net/latest/universe/systems/?datasource=tranquility')\n",
    "systems = r.json()\n",
    "syslist = getsystems(systems)\n",
    "assert len(syslist) == len(systems)\n",
    "df = pd.DataFrame(syslist)\n",
    "df.to_sql('systems', con = connection, index = False, if_exists='replace')"
   ],
   "metadata": {
    "collapsed": false,
    "pycharm": {
     "name": "#%%\n"
    }
   }
  },
  {
   "cell_type": "markdown",
   "source": [
    "# Constellations"
   ],
   "metadata": {
    "collapsed": false
   }
  },
  {
   "cell_type": "code",
   "execution_count": 7,
   "outputs": [],
   "source": [
    "def constellation(id):\n",
    "    data = requests.get(f'https://esi.evetech.net/latest/universe/constellations/{id}/?datasource=tranquility&language=en').json()\n",
    "    constellationdict = {}\n",
    "    constellationdict['constellation_id'] = data['constellation_id']\n",
    "    constellationdict['name'] = data['name']\n",
    "    constellationdict['region_id'] = data['region_id']\n",
    "    return constellationdict\n",
    "\n",
    "def getconstellations(constellations):\n",
    "    with ThreadPoolExecutor() as tp:\n",
    "        results = tp.map(constellation,constellations)\n",
    "        return [result for result in results]\n",
    "\n",
    "\n",
    "r = requests.get('https://esi.evetech.net/latest/universe/constellations/?datasource=tranquility')\n",
    "constellations = r.json()\n",
    "constlist = getconstellations(constellations)\n",
    "assert len(constlist) == len(constellations)\n",
    "df = pd.DataFrame(constlist)\n",
    "df.to_sql('constellations', con = connection, index = False, if_exists='replace')"
   ],
   "metadata": {
    "collapsed": false,
    "pycharm": {
     "name": "#%%\n"
    }
   }
  },
  {
   "cell_type": "markdown",
   "source": [
    "# Regions"
   ],
   "metadata": {
    "collapsed": false
   }
  },
  {
   "cell_type": "code",
   "execution_count": 8,
   "outputs": [],
   "source": [
    "def region(id):\n",
    "    data = requests.get(f'https://esi.evetech.net/latest/universe/regions/{id}/?datasource=tranquility&language=en').json()\n",
    "    regiondict = {}\n",
    "    regiondict['region_id'] = data['region_id']\n",
    "    regiondict['name'] = data['name']\n",
    "    return regiondict\n",
    "\n",
    "def getregions(regions):\n",
    "    with ThreadPoolExecutor() as tp:\n",
    "        results = tp.map(region,regions)\n",
    "        return [result for result in results]\n",
    "\n",
    "\n",
    "r = requests.get('https://esi.evetech.net/latest/universe/regions/?datasource=tranquility')\n",
    "regions = r.json()\n",
    "reglist = getregions(regions)\n",
    "assert len(reglist) == len(regions)\n",
    "df = pd.DataFrame(reglist)\n",
    "df.to_sql('regions', con = connection, index = False, if_exists='replace')"
   ],
   "metadata": {
    "collapsed": false,
    "pycharm": {
     "name": "#%%\n"
    }
   }
  },
  {
   "cell_type": "markdown",
   "source": [
    "# System Kills"
   ],
   "metadata": {
    "collapsed": false
   }
  },
  {
   "cell_type": "code",
   "execution_count": 9,
   "outputs": [],
   "source": [
    "data = requests.get('https://esi.evetech.net/latest/universe/system_kills/?datasource=tranquility').json()\n",
    "df = pd.DataFrame(data)\n",
    "df = df.reindex(columns = ['system_id','npc_kills','ship_kills','pod_kills'])\n",
    "df.to_sql('system_kills', con = connection, index= False, if_exists = 'replace')"
   ],
   "metadata": {
    "collapsed": false,
    "pycharm": {
     "name": "#%%\n"
    }
   }
  },
  {
   "cell_type": "markdown",
   "source": [
    "# Thera Connections"
   ],
   "metadata": {
    "collapsed": false
   }
  },
  {
   "cell_type": "code",
   "execution_count": 10,
   "outputs": [],
   "source": [
    "data = requests.get('https://www.eve-scout.com/api/wormholes').json()\n",
    "theradata = []\n",
    "for tdict in data:\n",
    "    theradata.append({\n",
    "        'system_id':tdict['destinationSolarSystem']['id'],\n",
    "        'type':tdict['sourceWormholeType']['name']\n",
    "     })\n",
    "df = pd.DataFrame(theradata)\n",
    "df.to_sql('thera', con = connection, index = False, if_exists='replace')"
   ],
   "metadata": {
    "collapsed": false,
    "pycharm": {
     "name": "#%%\n"
    }
   }
  },
  {
   "cell_type": "markdown",
   "source": [
    "# Stargates"
   ],
   "metadata": {
    "collapsed": false
   }
  },
  {
   "cell_type": "code",
   "execution_count": 11,
   "outputs": [],
   "source": [
    "def stargate(id):\n",
    "    data = requests.get(f'https://esi.evetech.net/latest/universe/systems/{id}/?datasource=tranquility&language=en').json()\n",
    "    try:\n",
    "        return data['stargates']\n",
    "    except KeyError:\n",
    "        return []\n",
    "\n",
    "def getstargates(stargates):\n",
    "    with ThreadPoolExecutor() as tp:\n",
    "        results = tp.map(stargate,stargates)\n",
    "        rlist = [result for result in results]\n",
    "        return list(itertools.chain(*rlist))\n",
    "\n",
    "\n",
    "r = requests.get('https://esi.evetech.net/latest/universe/systems/?datasource=tranquility')\n",
    "stargates = r.json()\n",
    "gatelist = getstargates(stargates)\n",
    "df = pd.DataFrame(gatelist)\n",
    "df.columns = ['gate_id']\n",
    "df.to_sql('stargates', con = connection, index = False, if_exists='replace')"
   ],
   "metadata": {
    "collapsed": false,
    "pycharm": {
     "name": "#%%\n"
    }
   }
  },
  {
   "cell_type": "markdown",
   "source": [
    "# Connections\n"
   ],
   "metadata": {
    "collapsed": false
   }
  },
  {
   "cell_type": "code",
   "execution_count": 12,
   "outputs": [],
   "source": [
    "def sconnection(id):\n",
    "    data = requests.get(f'https://esi.evetech.net/latest/universe/stargates/{id}/?datasource=tranquility').json()\n",
    "    return {\n",
    "        'source':data['system_id'],\n",
    "        'destination':data['destination']['system_id']\n",
    "    }\n",
    "\n",
    "def getconnections(stargates):\n",
    "    with ThreadPoolExecutor() as tp:\n",
    "        results = tp.map(sconnection,stargates)\n",
    "        return [result for result in results]\n",
    "\n",
    "\n",
    "stargates = connection.execute('select gate_id from stargates').fetchall()\n",
    "stargates = [y for x in stargates for y in x]\n",
    "conlist = getconnections(stargates)\n",
    "assert len(conlist) == len(stargates)\n",
    "df = pd.DataFrame(conlist)\n",
    "df.to_sql('connections', con = connection, index = False, if_exists='replace')"
   ],
   "metadata": {
    "collapsed": false,
    "pycharm": {
     "name": "#%%\n"
    }
   }
  },
  {
   "cell_type": "code",
   "execution_count": 14,
   "outputs": [],
   "source": [
    "noduplicates = connection.execute('SELECT DISTINCT source, destination FROM connections t1 WHERE t1.source > t1.destination OR NOT EXISTS (SELECT * FROM connections t2 WHERE t2.source = t1.destination AND t2.destination = t1.source)').fetchall()\n",
    "df = pd.DataFrame(noduplicates)\n",
    "df.columns = ['source_id','destination_id']\n",
    "df.to_sql('connections',con = connection, index=False, if_exists='replace')"
   ],
   "metadata": {
    "collapsed": false,
    "pycharm": {
     "name": "#%%\n"
    }
   }
  },
  {
   "cell_type": "code",
   "execution_count": 15,
   "outputs": [],
   "source": [
    "eve = nx.Graph()\n",
    "eve.add_edges_from(noduplicates)"
   ],
   "metadata": {
    "collapsed": false,
    "pycharm": {
     "name": "#%%\n"
    }
   }
  },
  {
   "cell_type": "code",
   "execution_count": 16,
   "outputs": [
    {
     "data": {
      "text/plain": "      system_id    system  security_status          region  npc_kills  \\\n1901   30003645    O36A-P        -0.084704           Tenal       1460   \n2216   30004142  Hikansog         0.811302           Kador       1371   \n657    30001407    Todaki         1.000000        Lonetrek        927   \n383    30000897    F-G7BO        -0.593187         Tribute        903   \n2589   30005001     Arnon         0.593093         Essence        890   \n...         ...       ...              ...             ...        ...   \n2533   30004916    H90-C9        -0.532198           Omist          0   \n1025   30002310    YX-0KH        -0.030253  Etherium Reach          0   \n2122   30003982    K-L690        -0.046148        Querious          0   \n2454   30004716    4K-TRB        -0.020233           Delve          0   \n1049   30002354    8KE-YS        -0.053899  Etherium Reach          0   \n\n      pod_kills  ship_kills             x             y             z  \n1901          0           0 -6.397321e+16  8.255295e+16  4.294112e+17  \n2216          0           0 -2.352238e+17  5.373238e+16 -1.218548e+17  \n657           0           0 -1.738105e+17  9.508494e+16  1.223923e+17  \n383           0           0 -5.445899e+16  7.331115e+16  2.359767e+17  \n2589          0           3 -2.373953e+17  5.459030e+16  3.017365e+16  \n...         ...         ...           ...           ...           ...  \n2533          1           0  1.288425e+17 -2.304870e+16 -4.117844e+17  \n1025          0           1  1.854030e+17  8.149192e+16  3.458675e+16  \n2122          1           1 -3.487798e+17  2.896199e+16 -2.406486e+17  \n2454          0           1 -4.242369e+17  2.986694e+16 -2.173928e+17  \n1049          1           1  9.426395e+16  5.178050e+16  4.884940e+16  \n\n[2886 rows x 10 columns]",
      "text/html": "<div>\n<style scoped>\n    .dataframe tbody tr th:only-of-type {\n        vertical-align: middle;\n    }\n\n    .dataframe tbody tr th {\n        vertical-align: top;\n    }\n\n    .dataframe thead th {\n        text-align: right;\n    }\n</style>\n<table border=\"1\" class=\"dataframe\">\n  <thead>\n    <tr style=\"text-align: right;\">\n      <th></th>\n      <th>system_id</th>\n      <th>system</th>\n      <th>security_status</th>\n      <th>region</th>\n      <th>npc_kills</th>\n      <th>pod_kills</th>\n      <th>ship_kills</th>\n      <th>x</th>\n      <th>y</th>\n      <th>z</th>\n    </tr>\n  </thead>\n  <tbody>\n    <tr>\n      <th>1901</th>\n      <td>30003645</td>\n      <td>O36A-P</td>\n      <td>-0.084704</td>\n      <td>Tenal</td>\n      <td>1460</td>\n      <td>0</td>\n      <td>0</td>\n      <td>-6.397321e+16</td>\n      <td>8.255295e+16</td>\n      <td>4.294112e+17</td>\n    </tr>\n    <tr>\n      <th>2216</th>\n      <td>30004142</td>\n      <td>Hikansog</td>\n      <td>0.811302</td>\n      <td>Kador</td>\n      <td>1371</td>\n      <td>0</td>\n      <td>0</td>\n      <td>-2.352238e+17</td>\n      <td>5.373238e+16</td>\n      <td>-1.218548e+17</td>\n    </tr>\n    <tr>\n      <th>657</th>\n      <td>30001407</td>\n      <td>Todaki</td>\n      <td>1.000000</td>\n      <td>Lonetrek</td>\n      <td>927</td>\n      <td>0</td>\n      <td>0</td>\n      <td>-1.738105e+17</td>\n      <td>9.508494e+16</td>\n      <td>1.223923e+17</td>\n    </tr>\n    <tr>\n      <th>383</th>\n      <td>30000897</td>\n      <td>F-G7BO</td>\n      <td>-0.593187</td>\n      <td>Tribute</td>\n      <td>903</td>\n      <td>0</td>\n      <td>0</td>\n      <td>-5.445899e+16</td>\n      <td>7.331115e+16</td>\n      <td>2.359767e+17</td>\n    </tr>\n    <tr>\n      <th>2589</th>\n      <td>30005001</td>\n      <td>Arnon</td>\n      <td>0.593093</td>\n      <td>Essence</td>\n      <td>890</td>\n      <td>0</td>\n      <td>3</td>\n      <td>-2.373953e+17</td>\n      <td>5.459030e+16</td>\n      <td>3.017365e+16</td>\n    </tr>\n    <tr>\n      <th>...</th>\n      <td>...</td>\n      <td>...</td>\n      <td>...</td>\n      <td>...</td>\n      <td>...</td>\n      <td>...</td>\n      <td>...</td>\n      <td>...</td>\n      <td>...</td>\n      <td>...</td>\n    </tr>\n    <tr>\n      <th>2533</th>\n      <td>30004916</td>\n      <td>H90-C9</td>\n      <td>-0.532198</td>\n      <td>Omist</td>\n      <td>0</td>\n      <td>1</td>\n      <td>0</td>\n      <td>1.288425e+17</td>\n      <td>-2.304870e+16</td>\n      <td>-4.117844e+17</td>\n    </tr>\n    <tr>\n      <th>1025</th>\n      <td>30002310</td>\n      <td>YX-0KH</td>\n      <td>-0.030253</td>\n      <td>Etherium Reach</td>\n      <td>0</td>\n      <td>0</td>\n      <td>1</td>\n      <td>1.854030e+17</td>\n      <td>8.149192e+16</td>\n      <td>3.458675e+16</td>\n    </tr>\n    <tr>\n      <th>2122</th>\n      <td>30003982</td>\n      <td>K-L690</td>\n      <td>-0.046148</td>\n      <td>Querious</td>\n      <td>0</td>\n      <td>1</td>\n      <td>1</td>\n      <td>-3.487798e+17</td>\n      <td>2.896199e+16</td>\n      <td>-2.406486e+17</td>\n    </tr>\n    <tr>\n      <th>2454</th>\n      <td>30004716</td>\n      <td>4K-TRB</td>\n      <td>-0.020233</td>\n      <td>Delve</td>\n      <td>0</td>\n      <td>0</td>\n      <td>1</td>\n      <td>-4.242369e+17</td>\n      <td>2.986694e+16</td>\n      <td>-2.173928e+17</td>\n    </tr>\n    <tr>\n      <th>1049</th>\n      <td>30002354</td>\n      <td>8KE-YS</td>\n      <td>-0.053899</td>\n      <td>Etherium Reach</td>\n      <td>0</td>\n      <td>1</td>\n      <td>1</td>\n      <td>9.426395e+16</td>\n      <td>5.178050e+16</td>\n      <td>4.884940e+16</td>\n    </tr>\n  </tbody>\n</table>\n<p>2886 rows × 10 columns</p>\n</div>"
     },
     "execution_count": 16,
     "metadata": {},
     "output_type": "execute_result"
    }
   ],
   "source": [
    "query = \"\"\"\n",
    "SELECT s.system_id, s.name as system, security_status, r.name as region, npc_kills, pod_kills, ship_kills, x, y, z\n",
    "FROM systems AS s\n",
    "         INNER JOIN constellations c ON c.constellation_id = s.constellation_id\n",
    "         INNER JOIN regions r ON r.region_id = c.region_id\n",
    "         INNER JOIN system_kills sk ON s.system_id = sk.system_id\n",
    "         \"\"\"\n",
    "test = connection.execute(query)\n",
    "df = pd.DataFrame(test, columns=test.keys()).sort_values(by=['npc_kills'], ascending=False)\n",
    "df"
   ],
   "metadata": {
    "collapsed": false,
    "pycharm": {
     "name": "#%%\n"
    }
   }
  },
  {
   "cell_type": "code",
   "execution_count": 17,
   "outputs": [
    {
     "data": {
      "text/plain": "    system_id         name             x             y             z\n0    30004658       ZUE-NS -5.004733e+17  4.877824e+16 -5.277791e+16\n1    30002096  Hofjaldgund -1.320439e+17  1.900875e+16  1.459811e+16\n2    31001558      J124727  7.478041e+18 -6.819950e+15 -9.579101e+18\n3    30000937       ZJ-GOU  5.171652e+16  3.615544e+15 -1.047533e+17\n4    30002752      Ahynada -1.318148e+17  8.897007e+16  1.318486e+17\n5    30004977     Yvangier -2.088278e+17  5.357265e+16  7.707838e+16\n6    30002217       Hutian -1.994459e+17  6.876697e+16 -1.047576e+17\n7    31000402      J233534  7.783411e+18 -1.695121e+16 -9.349452e+18\n8    30004818       C-FD0D  8.115914e+15  1.349033e+16 -2.665072e+17\n9    30004257      Hakatiz -3.636554e+17  3.879064e+16 -4.301449e+16\n10   30003466     Eurgrana -1.944250e+16  4.405243e+16  4.798578e+16\n11   30004152      Kooreng -2.185256e+17  5.141825e+16 -8.459221e+16\n12   30003473      Fahruni -2.023876e+17  4.252911e+16 -9.045854e+15\n13   31001391      J165820  7.967603e+18  3.830202e+16 -9.575347e+18\n14   30002083       Uisper -1.294856e+17  2.851737e+16  3.070949e+16\n15   30002865       LEM-I1  1.091623e+17  7.145899e+16  8.188988e+16\n16   30000717       Q-NA5H  1.023382e+17  1.527003e+16 -1.285482e+17\n17   31000592      J233129  7.810112e+18 -1.978020e+16 -9.683255e+18\n18   30005043     Nakregde -2.671491e+17  3.217839e+16 -9.575163e+16\n19   30001308       S-1ZXZ -1.476756e+17  1.091289e+17  3.575399e+17\n20   30000203        Eruka -9.521840e+16  6.535627e+16  1.433769e+17",
      "text/html": "<div>\n<style scoped>\n    .dataframe tbody tr th:only-of-type {\n        vertical-align: middle;\n    }\n\n    .dataframe tbody tr th {\n        vertical-align: top;\n    }\n\n    .dataframe thead th {\n        text-align: right;\n    }\n</style>\n<table border=\"1\" class=\"dataframe\">\n  <thead>\n    <tr style=\"text-align: right;\">\n      <th></th>\n      <th>system_id</th>\n      <th>name</th>\n      <th>x</th>\n      <th>y</th>\n      <th>z</th>\n    </tr>\n  </thead>\n  <tbody>\n    <tr>\n      <th>0</th>\n      <td>30004658</td>\n      <td>ZUE-NS</td>\n      <td>-5.004733e+17</td>\n      <td>4.877824e+16</td>\n      <td>-5.277791e+16</td>\n    </tr>\n    <tr>\n      <th>1</th>\n      <td>30002096</td>\n      <td>Hofjaldgund</td>\n      <td>-1.320439e+17</td>\n      <td>1.900875e+16</td>\n      <td>1.459811e+16</td>\n    </tr>\n    <tr>\n      <th>2</th>\n      <td>31001558</td>\n      <td>J124727</td>\n      <td>7.478041e+18</td>\n      <td>-6.819950e+15</td>\n      <td>-9.579101e+18</td>\n    </tr>\n    <tr>\n      <th>3</th>\n      <td>30000937</td>\n      <td>ZJ-GOU</td>\n      <td>5.171652e+16</td>\n      <td>3.615544e+15</td>\n      <td>-1.047533e+17</td>\n    </tr>\n    <tr>\n      <th>4</th>\n      <td>30002752</td>\n      <td>Ahynada</td>\n      <td>-1.318148e+17</td>\n      <td>8.897007e+16</td>\n      <td>1.318486e+17</td>\n    </tr>\n    <tr>\n      <th>5</th>\n      <td>30004977</td>\n      <td>Yvangier</td>\n      <td>-2.088278e+17</td>\n      <td>5.357265e+16</td>\n      <td>7.707838e+16</td>\n    </tr>\n    <tr>\n      <th>6</th>\n      <td>30002217</td>\n      <td>Hutian</td>\n      <td>-1.994459e+17</td>\n      <td>6.876697e+16</td>\n      <td>-1.047576e+17</td>\n    </tr>\n    <tr>\n      <th>7</th>\n      <td>31000402</td>\n      <td>J233534</td>\n      <td>7.783411e+18</td>\n      <td>-1.695121e+16</td>\n      <td>-9.349452e+18</td>\n    </tr>\n    <tr>\n      <th>8</th>\n      <td>30004818</td>\n      <td>C-FD0D</td>\n      <td>8.115914e+15</td>\n      <td>1.349033e+16</td>\n      <td>-2.665072e+17</td>\n    </tr>\n    <tr>\n      <th>9</th>\n      <td>30004257</td>\n      <td>Hakatiz</td>\n      <td>-3.636554e+17</td>\n      <td>3.879064e+16</td>\n      <td>-4.301449e+16</td>\n    </tr>\n    <tr>\n      <th>10</th>\n      <td>30003466</td>\n      <td>Eurgrana</td>\n      <td>-1.944250e+16</td>\n      <td>4.405243e+16</td>\n      <td>4.798578e+16</td>\n    </tr>\n    <tr>\n      <th>11</th>\n      <td>30004152</td>\n      <td>Kooreng</td>\n      <td>-2.185256e+17</td>\n      <td>5.141825e+16</td>\n      <td>-8.459221e+16</td>\n    </tr>\n    <tr>\n      <th>12</th>\n      <td>30003473</td>\n      <td>Fahruni</td>\n      <td>-2.023876e+17</td>\n      <td>4.252911e+16</td>\n      <td>-9.045854e+15</td>\n    </tr>\n    <tr>\n      <th>13</th>\n      <td>31001391</td>\n      <td>J165820</td>\n      <td>7.967603e+18</td>\n      <td>3.830202e+16</td>\n      <td>-9.575347e+18</td>\n    </tr>\n    <tr>\n      <th>14</th>\n      <td>30002083</td>\n      <td>Uisper</td>\n      <td>-1.294856e+17</td>\n      <td>2.851737e+16</td>\n      <td>3.070949e+16</td>\n    </tr>\n    <tr>\n      <th>15</th>\n      <td>30002865</td>\n      <td>LEM-I1</td>\n      <td>1.091623e+17</td>\n      <td>7.145899e+16</td>\n      <td>8.188988e+16</td>\n    </tr>\n    <tr>\n      <th>16</th>\n      <td>30000717</td>\n      <td>Q-NA5H</td>\n      <td>1.023382e+17</td>\n      <td>1.527003e+16</td>\n      <td>-1.285482e+17</td>\n    </tr>\n    <tr>\n      <th>17</th>\n      <td>31000592</td>\n      <td>J233129</td>\n      <td>7.810112e+18</td>\n      <td>-1.978020e+16</td>\n      <td>-9.683255e+18</td>\n    </tr>\n    <tr>\n      <th>18</th>\n      <td>30005043</td>\n      <td>Nakregde</td>\n      <td>-2.671491e+17</td>\n      <td>3.217839e+16</td>\n      <td>-9.575163e+16</td>\n    </tr>\n    <tr>\n      <th>19</th>\n      <td>30001308</td>\n      <td>S-1ZXZ</td>\n      <td>-1.476756e+17</td>\n      <td>1.091289e+17</td>\n      <td>3.575399e+17</td>\n    </tr>\n    <tr>\n      <th>20</th>\n      <td>30000203</td>\n      <td>Eruka</td>\n      <td>-9.521840e+16</td>\n      <td>6.535627e+16</td>\n      <td>1.433769e+17</td>\n    </tr>\n  </tbody>\n</table>\n</div>"
     },
     "execution_count": 17,
     "metadata": {},
     "output_type": "execute_result"
    }
   ],
   "source": [
    "query = \"\"\"\n",
    "SELECT thera.system_id, name, x, y, z from thera\n",
    "INNER JOIN systems s ON s.system_id = thera.system_id\n",
    "\"\"\"\n",
    "theradata = connection.execute(query)\n",
    "thera = pd.DataFrame(theradata, columns= theradata.keys())\n",
    "thera"
   ],
   "metadata": {
    "collapsed": false,
    "pycharm": {
     "name": "#%%\n"
    }
   }
  },
  {
   "cell_type": "code",
   "execution_count": 18,
   "outputs": [],
   "source": [
    "closest_gate = []\n",
    "for row in df.itertuples():\n",
    "    shortest = int(10000000)\n",
    "    closest = int(0)\n",
    "    for trow in thera.itertuples():\n",
    "        try:\n",
    "            pathlength = len(nx.shortest_path(eve,source = row.system_id, target = trow.system_id))\n",
    "            if shortest > pathlength:\n",
    "                shortest = pathlength\n",
    "                closest = trow.name\n",
    "        except:\n",
    "            continue\n",
    "    closest_gate.append(\n",
    "        {\n",
    "            'closest_gate': closest,\n",
    "            'gate_distance': shortest\n",
    "        }\n",
    "    )"
   ],
   "metadata": {
    "collapsed": false,
    "pycharm": {
     "name": "#%%\n"
    }
   }
  },
  {
   "cell_type": "code",
   "execution_count": 19,
   "outputs": [
    {
     "data": {
      "text/plain": "      system_id    system  security_status          region  npc_kills  \\\n1901   30003645    O36A-P        -0.084704           Tenal       1460   \n2216   30004142  Hikansog         0.811302           Kador       1371   \n657    30001407    Todaki         1.000000        Lonetrek        927   \n383    30000897    F-G7BO        -0.593187         Tribute        903   \n2589   30005001     Arnon         0.593093         Essence        890   \n...         ...       ...              ...             ...        ...   \n2533   30004916    H90-C9        -0.532198           Omist          0   \n1025   30002310    YX-0KH        -0.030253  Etherium Reach          0   \n2122   30003982    K-L690        -0.046148        Querious          0   \n2454   30004716    4K-TRB        -0.020233           Delve          0   \n1049   30002354    8KE-YS        -0.053899  Etherium Reach          0   \n\n      pod_kills  ship_kills             x             y             z  \\\n1901          0           0 -6.397321e+16  8.255295e+16  4.294112e+17   \n2216          0           0 -2.352238e+17  5.373238e+16 -1.218548e+17   \n657           0           0 -1.738105e+17  9.508494e+16  1.223923e+17   \n383           0           0 -5.445899e+16  7.331115e+16  2.359767e+17   \n2589          0           3 -2.373953e+17  5.459030e+16  3.017365e+16   \n...         ...         ...           ...           ...           ...   \n2533          1           0  1.288425e+17 -2.304870e+16 -4.117844e+17   \n1025          0           1  1.854030e+17  8.149192e+16  3.458675e+16   \n2122          1           1 -3.487798e+17  2.896199e+16 -2.406486e+17   \n2454          0           1 -4.242369e+17  2.986694e+16 -2.173928e+17   \n1049          1           1  9.426395e+16  5.178050e+16  4.884940e+16   \n\n     closest_gate  gate_distance  \n1901       S-1ZXZ             15  \n2216      Kooreng              9  \n657       Ahynada              7  \n383        S-1ZXZ              9  \n2589     Yvangier              7  \n...           ...            ...  \n2533       C-FD0D             29  \n1025       LEM-I1             17  \n2122       C-FD0D             26  \n2454       ZUE-NS             16  \n1049     Eurgrana             10  \n\n[2886 rows x 12 columns]",
      "text/html": "<div>\n<style scoped>\n    .dataframe tbody tr th:only-of-type {\n        vertical-align: middle;\n    }\n\n    .dataframe tbody tr th {\n        vertical-align: top;\n    }\n\n    .dataframe thead th {\n        text-align: right;\n    }\n</style>\n<table border=\"1\" class=\"dataframe\">\n  <thead>\n    <tr style=\"text-align: right;\">\n      <th></th>\n      <th>system_id</th>\n      <th>system</th>\n      <th>security_status</th>\n      <th>region</th>\n      <th>npc_kills</th>\n      <th>pod_kills</th>\n      <th>ship_kills</th>\n      <th>x</th>\n      <th>y</th>\n      <th>z</th>\n      <th>closest_gate</th>\n      <th>gate_distance</th>\n    </tr>\n  </thead>\n  <tbody>\n    <tr>\n      <th>1901</th>\n      <td>30003645</td>\n      <td>O36A-P</td>\n      <td>-0.084704</td>\n      <td>Tenal</td>\n      <td>1460</td>\n      <td>0</td>\n      <td>0</td>\n      <td>-6.397321e+16</td>\n      <td>8.255295e+16</td>\n      <td>4.294112e+17</td>\n      <td>S-1ZXZ</td>\n      <td>15</td>\n    </tr>\n    <tr>\n      <th>2216</th>\n      <td>30004142</td>\n      <td>Hikansog</td>\n      <td>0.811302</td>\n      <td>Kador</td>\n      <td>1371</td>\n      <td>0</td>\n      <td>0</td>\n      <td>-2.352238e+17</td>\n      <td>5.373238e+16</td>\n      <td>-1.218548e+17</td>\n      <td>Kooreng</td>\n      <td>9</td>\n    </tr>\n    <tr>\n      <th>657</th>\n      <td>30001407</td>\n      <td>Todaki</td>\n      <td>1.000000</td>\n      <td>Lonetrek</td>\n      <td>927</td>\n      <td>0</td>\n      <td>0</td>\n      <td>-1.738105e+17</td>\n      <td>9.508494e+16</td>\n      <td>1.223923e+17</td>\n      <td>Ahynada</td>\n      <td>7</td>\n    </tr>\n    <tr>\n      <th>383</th>\n      <td>30000897</td>\n      <td>F-G7BO</td>\n      <td>-0.593187</td>\n      <td>Tribute</td>\n      <td>903</td>\n      <td>0</td>\n      <td>0</td>\n      <td>-5.445899e+16</td>\n      <td>7.331115e+16</td>\n      <td>2.359767e+17</td>\n      <td>S-1ZXZ</td>\n      <td>9</td>\n    </tr>\n    <tr>\n      <th>2589</th>\n      <td>30005001</td>\n      <td>Arnon</td>\n      <td>0.593093</td>\n      <td>Essence</td>\n      <td>890</td>\n      <td>0</td>\n      <td>3</td>\n      <td>-2.373953e+17</td>\n      <td>5.459030e+16</td>\n      <td>3.017365e+16</td>\n      <td>Yvangier</td>\n      <td>7</td>\n    </tr>\n    <tr>\n      <th>...</th>\n      <td>...</td>\n      <td>...</td>\n      <td>...</td>\n      <td>...</td>\n      <td>...</td>\n      <td>...</td>\n      <td>...</td>\n      <td>...</td>\n      <td>...</td>\n      <td>...</td>\n      <td>...</td>\n      <td>...</td>\n    </tr>\n    <tr>\n      <th>2533</th>\n      <td>30004916</td>\n      <td>H90-C9</td>\n      <td>-0.532198</td>\n      <td>Omist</td>\n      <td>0</td>\n      <td>1</td>\n      <td>0</td>\n      <td>1.288425e+17</td>\n      <td>-2.304870e+16</td>\n      <td>-4.117844e+17</td>\n      <td>C-FD0D</td>\n      <td>29</td>\n    </tr>\n    <tr>\n      <th>1025</th>\n      <td>30002310</td>\n      <td>YX-0KH</td>\n      <td>-0.030253</td>\n      <td>Etherium Reach</td>\n      <td>0</td>\n      <td>0</td>\n      <td>1</td>\n      <td>1.854030e+17</td>\n      <td>8.149192e+16</td>\n      <td>3.458675e+16</td>\n      <td>LEM-I1</td>\n      <td>17</td>\n    </tr>\n    <tr>\n      <th>2122</th>\n      <td>30003982</td>\n      <td>K-L690</td>\n      <td>-0.046148</td>\n      <td>Querious</td>\n      <td>0</td>\n      <td>1</td>\n      <td>1</td>\n      <td>-3.487798e+17</td>\n      <td>2.896199e+16</td>\n      <td>-2.406486e+17</td>\n      <td>C-FD0D</td>\n      <td>26</td>\n    </tr>\n    <tr>\n      <th>2454</th>\n      <td>30004716</td>\n      <td>4K-TRB</td>\n      <td>-0.020233</td>\n      <td>Delve</td>\n      <td>0</td>\n      <td>0</td>\n      <td>1</td>\n      <td>-4.242369e+17</td>\n      <td>2.986694e+16</td>\n      <td>-2.173928e+17</td>\n      <td>ZUE-NS</td>\n      <td>16</td>\n    </tr>\n    <tr>\n      <th>1049</th>\n      <td>30002354</td>\n      <td>8KE-YS</td>\n      <td>-0.053899</td>\n      <td>Etherium Reach</td>\n      <td>0</td>\n      <td>1</td>\n      <td>1</td>\n      <td>9.426395e+16</td>\n      <td>5.178050e+16</td>\n      <td>4.884940e+16</td>\n      <td>Eurgrana</td>\n      <td>10</td>\n    </tr>\n  </tbody>\n</table>\n<p>2886 rows × 12 columns</p>\n</div>"
     },
     "execution_count": 19,
     "metadata": {},
     "output_type": "execute_result"
    }
   ],
   "source": [
    "len(closest_gate)\n",
    "df['closest_gate'] = [x['closest_gate'] for x in closest_gate]\n",
    "df['gate_distance'] = [x['gate_distance'] for x in closest_gate]\n",
    "df"
   ],
   "metadata": {
    "collapsed": false,
    "pycharm": {
     "name": "#%%\n"
    }
   }
  },
  {
   "cell_type": "code",
   "execution_count": 20,
   "outputs": [],
   "source": [
    "def distance(curloc, otherloc):\n",
    "    dist = math.sqrt(\n",
    "        (curloc[0] - otherloc[0]) ** 2 + (curloc[1] - otherloc[1]) ** 2 + (curloc[2] - otherloc[2]) ** 2)\n",
    "    return dist / 149597870691 / 63239.6717\n",
    "\n",
    "\n",
    "def closestly(indf,thera):\n",
    "    dists = []\n",
    "    names = []\n",
    "    for tup in indf.itertuples():\n",
    "        tempdist = []\n",
    "        tempname = []\n",
    "        for tup2 in thera.itertuples():\n",
    "            tempdist.append(distance((tup.x, tup.y, tup.z), (tup2.x, tup2.y, tup2.z)))\n",
    "            tempname.append(tup2.name)\n",
    "        smallest = tempdist.index(min(tempdist))\n",
    "        dists.append(tempdist[smallest])\n",
    "        names.append(tempname[smallest])\n",
    "\n",
    "    return names, dists"
   ],
   "metadata": {
    "collapsed": false,
    "pycharm": {
     "name": "#%%\n"
    }
   }
  },
  {
   "cell_type": "code",
   "execution_count": 21,
   "outputs": [
    {
     "data": {
      "text/plain": "        system          region  npc_kills  pod_kills  ship_kills closest_gate  \\\n1901    O36A-P           Tenal       1460          0           0       S-1ZXZ   \n2216  Hikansog           Kador       1371          0           0      Kooreng   \n657     Todaki        Lonetrek        927          0           0      Ahynada   \n383     F-G7BO         Tribute        903          0           0       S-1ZXZ   \n2589     Arnon         Essence        890          0           3     Yvangier   \n...        ...             ...        ...        ...         ...          ...   \n2533    H90-C9           Omist          0          1           0       C-FD0D   \n1025    YX-0KH  Etherium Reach          0          0           1       LEM-I1   \n2122    K-L690        Querious          0          1           1       C-FD0D   \n2454    4K-TRB           Delve          0          0           1       ZUE-NS   \n1049    8KE-YS  Etherium Reach          0          1           1     Eurgrana   \n\n      gate_distance closest_ly  distance_ly  \n1901             15     S-1ZXZ    11.995180  \n2216              9    Kooreng     4.323074  \n657               7    Ahynada     4.595873  \n383               9      Eruka    10.727274  \n2589              7    Fahruni     5.701253  \n...             ...        ...          ...  \n2533             29     C-FD0D    20.336515  \n1025             17     LEM-I1     9.543058  \n2122             26   Nakregde    17.582562  \n2454             16     ZUE-NS    19.279523  \n1049             10     LEM-I1     4.359348  \n\n[2886 rows x 9 columns]",
      "text/html": "<div>\n<style scoped>\n    .dataframe tbody tr th:only-of-type {\n        vertical-align: middle;\n    }\n\n    .dataframe tbody tr th {\n        vertical-align: top;\n    }\n\n    .dataframe thead th {\n        text-align: right;\n    }\n</style>\n<table border=\"1\" class=\"dataframe\">\n  <thead>\n    <tr style=\"text-align: right;\">\n      <th></th>\n      <th>system</th>\n      <th>region</th>\n      <th>npc_kills</th>\n      <th>pod_kills</th>\n      <th>ship_kills</th>\n      <th>closest_gate</th>\n      <th>gate_distance</th>\n      <th>closest_ly</th>\n      <th>distance_ly</th>\n    </tr>\n  </thead>\n  <tbody>\n    <tr>\n      <th>1901</th>\n      <td>O36A-P</td>\n      <td>Tenal</td>\n      <td>1460</td>\n      <td>0</td>\n      <td>0</td>\n      <td>S-1ZXZ</td>\n      <td>15</td>\n      <td>S-1ZXZ</td>\n      <td>11.995180</td>\n    </tr>\n    <tr>\n      <th>2216</th>\n      <td>Hikansog</td>\n      <td>Kador</td>\n      <td>1371</td>\n      <td>0</td>\n      <td>0</td>\n      <td>Kooreng</td>\n      <td>9</td>\n      <td>Kooreng</td>\n      <td>4.323074</td>\n    </tr>\n    <tr>\n      <th>657</th>\n      <td>Todaki</td>\n      <td>Lonetrek</td>\n      <td>927</td>\n      <td>0</td>\n      <td>0</td>\n      <td>Ahynada</td>\n      <td>7</td>\n      <td>Ahynada</td>\n      <td>4.595873</td>\n    </tr>\n    <tr>\n      <th>383</th>\n      <td>F-G7BO</td>\n      <td>Tribute</td>\n      <td>903</td>\n      <td>0</td>\n      <td>0</td>\n      <td>S-1ZXZ</td>\n      <td>9</td>\n      <td>Eruka</td>\n      <td>10.727274</td>\n    </tr>\n    <tr>\n      <th>2589</th>\n      <td>Arnon</td>\n      <td>Essence</td>\n      <td>890</td>\n      <td>0</td>\n      <td>3</td>\n      <td>Yvangier</td>\n      <td>7</td>\n      <td>Fahruni</td>\n      <td>5.701253</td>\n    </tr>\n    <tr>\n      <th>...</th>\n      <td>...</td>\n      <td>...</td>\n      <td>...</td>\n      <td>...</td>\n      <td>...</td>\n      <td>...</td>\n      <td>...</td>\n      <td>...</td>\n      <td>...</td>\n    </tr>\n    <tr>\n      <th>2533</th>\n      <td>H90-C9</td>\n      <td>Omist</td>\n      <td>0</td>\n      <td>1</td>\n      <td>0</td>\n      <td>C-FD0D</td>\n      <td>29</td>\n      <td>C-FD0D</td>\n      <td>20.336515</td>\n    </tr>\n    <tr>\n      <th>1025</th>\n      <td>YX-0KH</td>\n      <td>Etherium Reach</td>\n      <td>0</td>\n      <td>0</td>\n      <td>1</td>\n      <td>LEM-I1</td>\n      <td>17</td>\n      <td>LEM-I1</td>\n      <td>9.543058</td>\n    </tr>\n    <tr>\n      <th>2122</th>\n      <td>K-L690</td>\n      <td>Querious</td>\n      <td>0</td>\n      <td>1</td>\n      <td>1</td>\n      <td>C-FD0D</td>\n      <td>26</td>\n      <td>Nakregde</td>\n      <td>17.582562</td>\n    </tr>\n    <tr>\n      <th>2454</th>\n      <td>4K-TRB</td>\n      <td>Delve</td>\n      <td>0</td>\n      <td>0</td>\n      <td>1</td>\n      <td>ZUE-NS</td>\n      <td>16</td>\n      <td>ZUE-NS</td>\n      <td>19.279523</td>\n    </tr>\n    <tr>\n      <th>1049</th>\n      <td>8KE-YS</td>\n      <td>Etherium Reach</td>\n      <td>0</td>\n      <td>1</td>\n      <td>1</td>\n      <td>Eurgrana</td>\n      <td>10</td>\n      <td>LEM-I1</td>\n      <td>4.359348</td>\n    </tr>\n  </tbody>\n</table>\n<p>2886 rows × 9 columns</p>\n</div>"
     },
     "execution_count": 21,
     "metadata": {},
     "output_type": "execute_result"
    }
   ],
   "source": [
    "df['closest_ly'], df['distance_ly'] = closestly(df,thera)\n",
    "df[['system','region','npc_kills','pod_kills','ship_kills','closest_gate','gate_distance','closest_ly','distance_ly']]"
   ],
   "metadata": {
    "collapsed": false,
    "pycharm": {
     "name": "#%%\n"
    }
   }
  }
 ],
 "metadata": {
  "kernelspec": {
   "display_name": "Python 3",
   "language": "python",
   "name": "python3"
  },
  "language_info": {
   "codemirror_mode": {
    "name": "ipython",
    "version": 2
   },
   "file_extension": ".py",
   "mimetype": "text/x-python",
   "name": "python",
   "nbconvert_exporter": "python",
   "pygments_lexer": "ipython2",
   "version": "2.7.6"
  }
 },
 "nbformat": 4,
 "nbformat_minor": 0
}