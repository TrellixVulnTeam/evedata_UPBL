{
 "cells": [
  {
   "cell_type": "code",
   "execution_count": 1,
   "metadata": {
    "collapsed": true,
    "pycharm": {
     "name": "#%%\n"
    }
   },
   "outputs": [],
   "source": [
    "import itertools\n",
    "from concurrent.futures.thread import ThreadPoolExecutor\n",
    "import requests\n",
    "import pandas as pd\n",
    "from sqlalchemy import MetaData, create_engine\n",
    "import networkx as nx\n",
    "import math"
   ]
  },
  {
   "cell_type": "markdown",
   "source": [
    "# System Data"
   ],
   "metadata": {
    "collapsed": false
   }
  },
  {
   "cell_type": "code",
   "execution_count": 2,
   "outputs": [
    {
     "data": {
      "text/plain": "<sqlalchemy.engine.cursor.LegacyCursorResult at 0x2026224c970>"
     },
     "execution_count": 2,
     "metadata": {},
     "output_type": "execute_result"
    }
   ],
   "source": [
    "systemsquery = '''\n",
    "create table systems\n",
    "(\n",
    "\tsystem_id BIGINT\n",
    "\t\tconstraint systems_pk\n",
    "\t\t\tprimary key,\n",
    "\tname TEXT,\n",
    "\tconstellation_id BIGINT\n",
    "\t\tconstraint systems_constellations_constellation_id_fk\n",
    "\t\t\treferences constellations,\n",
    "\tsecurity_status FLOAT,\n",
    "\tx FLOAT,\n",
    "\ty FLOAT,\n",
    "\tz FLOAT\n",
    ");\n",
    "'''\n",
    "constellationsquery = '''\n",
    "create table constellations\n",
    "(\n",
    "\tconstellation_id BIGINT\n",
    "\t\tconstraint constellations_pk\n",
    "\t\t\tprimary key,\n",
    "\tname TEXT,\n",
    "\tregion_id BIGINT\n",
    "\t\tconstraint constellations_regions_region_id_fk\n",
    "\t\t\treferences regions\n",
    ");\n",
    "'''\n",
    "regionsquery = '''\n",
    "create table regions\n",
    "(\n",
    "\tregion_id BIGINT\n",
    "\t\tconstraint regions_pk\n",
    "\t\t\tprimary key,\n",
    "\tname TEXT\n",
    ")\n",
    "'''\n",
    "systemkillsquery = '''\n",
    "create table system_kills\n",
    "(\n",
    "\tsystem_id BIGINT\n",
    "\t\tconstraint system_kills_pk\n",
    "\t\t\tprimary key\n",
    "\t\tconstraint system_kills_systems_system_id_fk\n",
    "\t\t\treferences systems (system_id),\n",
    "\tnpc_kills BIGINT,\n",
    "\tship_kills BIGINT,\n",
    "\tpod_kills BIGINT\n",
    ")\n",
    "'''\n",
    "theraquery = '''\n",
    "create table thera\n",
    "(\n",
    "\tsystem_id BIGINT\n",
    "\t\tconstraint thera_pk\n",
    "\t\t\tprimary key\n",
    "\t\tconstraint thera_systems_system_id_fk\n",
    "\t\t\treferences systems (system_id),\n",
    "\ttype TEXT\n",
    ")\n",
    "'''\n",
    "stargatesquery = '''\n",
    "create table stargates\n",
    "(\n",
    "\tgate_id BIGINT\n",
    "\t\tconstraint stargates_pk\n",
    "\t\t\tprimary key\n",
    ")\n",
    "'''\n",
    "connectionsquery = '''\n",
    "create table connections\n",
    "(\n",
    "\tsource_id BIGINT\n",
    "\t\tconstraint connections_systems_system_id_fk\n",
    "\t\t\treferences systems (system_id),\n",
    "\tdestination_id BIGINT\n",
    "\t\tconstraint connections_systems_system_id_fk_2\n",
    "\t\t\treferences systems (system_id)\n",
    ")\n",
    "'''\n",
    "\n",
    "engine = create_engine('sqlite:///eve.db')\n",
    "connection = engine.connect()\n",
    "metadata = MetaData()\n",
    "\n",
    "connection.execute(regionsquery)\n",
    "connection.execute(constellationsquery)\n",
    "connection.execute(systemsquery)\n",
    "connection.execute(systemkillsquery)\n",
    "connection.execute(theraquery)\n",
    "connection.execute(stargatesquery)\n",
    "connection.execute(connectionsquery)"
   ],
   "metadata": {
    "collapsed": false,
    "pycharm": {
     "name": "#%%\n"
    }
   }
  },
  {
   "cell_type": "code",
   "execution_count": 3,
   "outputs": [],
   "source": [
    "def system(id):\n",
    "    data = requests.get(f'https://esi.evetech.net/latest/universe/systems/{id}/?datasource=tranquility&language=en').json()\n",
    "    systemdict = {}\n",
    "    systemdict['system_id'] = data['system_id']\n",
    "    systemdict['name'] = data['name']\n",
    "    systemdict['constellation_id'] = data['constellation_id']\n",
    "    systemdict['security_status'] = data['security_status']\n",
    "    systemdict['x'] = data['position']['x']\n",
    "    systemdict['y'] = data['position']['y']\n",
    "    systemdict['z'] = data['position']['z']\n",
    "    return systemdict\n",
    "\n",
    "def getsystems(systems):\n",
    "    with ThreadPoolExecutor() as tp:\n",
    "        results = tp.map(system,systems)\n",
    "        return [result for result in results]\n",
    "\n",
    "\n",
    "r = requests.get('https://esi.evetech.net/latest/universe/systems/?datasource=tranquility')\n",
    "systems = r.json()\n",
    "syslist = getsystems(systems)\n",
    "assert len(syslist) == len(systems)\n",
    "df = pd.DataFrame(syslist)\n",
    "df.to_sql('systems', con = connection, index = False, if_exists='append')"
   ],
   "metadata": {
    "collapsed": false,
    "pycharm": {
     "name": "#%%\n"
    }
   }
  },
  {
   "cell_type": "markdown",
   "source": [
    "# Constellations"
   ],
   "metadata": {
    "collapsed": false
   }
  },
  {
   "cell_type": "code",
   "execution_count": 4,
   "outputs": [],
   "source": [
    "def constellation(id):\n",
    "    data = requests.get(f'https://esi.evetech.net/latest/universe/constellations/{id}/?datasource=tranquility&language=en').json()\n",
    "    constellationdict = {}\n",
    "    constellationdict['constellation_id'] = data['constellation_id']\n",
    "    constellationdict['name'] = data['name']\n",
    "    constellationdict['region_id'] = data['region_id']\n",
    "    return constellationdict\n",
    "\n",
    "def getconstellations(constellations):\n",
    "    with ThreadPoolExecutor() as tp:\n",
    "        results = tp.map(constellation,constellations)\n",
    "        return [result for result in results]\n",
    "\n",
    "\n",
    "r = requests.get('https://esi.evetech.net/latest/universe/constellations/?datasource=tranquility')\n",
    "constellations = r.json()\n",
    "constlist = getconstellations(constellations)\n",
    "assert len(constlist) == len(constellations)\n",
    "df = pd.DataFrame(constlist)\n",
    "df.to_sql('constellations', con = connection, index = False, if_exists='append')"
   ],
   "metadata": {
    "collapsed": false,
    "pycharm": {
     "name": "#%%\n"
    }
   }
  },
  {
   "cell_type": "markdown",
   "source": [
    "# Regions"
   ],
   "metadata": {
    "collapsed": false
   }
  },
  {
   "cell_type": "code",
   "execution_count": 5,
   "outputs": [],
   "source": [
    "def region(id):\n",
    "    data = requests.get(f'https://esi.evetech.net/latest/universe/regions/{id}/?datasource=tranquility&language=en').json()\n",
    "    regiondict = {}\n",
    "    regiondict['region_id'] = data['region_id']\n",
    "    regiondict['name'] = data['name']\n",
    "    return regiondict\n",
    "\n",
    "def getregions(regions):\n",
    "    with ThreadPoolExecutor() as tp:\n",
    "        results = tp.map(region,regions)\n",
    "        return [result for result in results]\n",
    "\n",
    "\n",
    "r = requests.get('https://esi.evetech.net/latest/universe/regions/?datasource=tranquility')\n",
    "regions = r.json()\n",
    "reglist = getregions(regions)\n",
    "assert len(reglist) == len(regions)\n",
    "df = pd.DataFrame(reglist)\n",
    "df.to_sql('regions', con = connection, index = False, if_exists='append')"
   ],
   "metadata": {
    "collapsed": false,
    "pycharm": {
     "name": "#%%\n"
    }
   }
  },
  {
   "cell_type": "markdown",
   "source": [
    "# System Kills"
   ],
   "metadata": {
    "collapsed": false
   }
  },
  {
   "cell_type": "code",
   "execution_count": 6,
   "outputs": [],
   "source": [
    "data = requests.get('https://esi.evetech.net/latest/universe/system_kills/?datasource=tranquility').json()\n",
    "df = pd.DataFrame(data)\n",
    "df = df.reindex(columns = ['system_id','npc_kills','ship_kills','pod_kills'])\n",
    "df.to_sql('system_kills', con = connection, index= False, if_exists = 'append')"
   ],
   "metadata": {
    "collapsed": false,
    "pycharm": {
     "name": "#%%\n"
    }
   }
  },
  {
   "cell_type": "markdown",
   "source": [
    "# Thera Connections"
   ],
   "metadata": {
    "collapsed": false
   }
  },
  {
   "cell_type": "code",
   "execution_count": 7,
   "outputs": [],
   "source": [
    "data = requests.get('https://www.eve-scout.com/api/wormholes').json()\n",
    "theradata = []\n",
    "for tdict in data:\n",
    "    theradata.append({\n",
    "        'system_id':tdict['destinationSolarSystem']['id'],\n",
    "        'type':tdict['sourceWormholeType']['name']\n",
    "     })\n",
    "df = pd.DataFrame(theradata)\n",
    "connection.execute('DELETE from thera')\n",
    "df.to_sql('thera', con = connection, index = False, if_exists='append')"
   ],
   "metadata": {
    "collapsed": false,
    "pycharm": {
     "name": "#%%\n"
    }
   }
  },
  {
   "cell_type": "markdown",
   "source": [
    "# Stargates"
   ],
   "metadata": {
    "collapsed": false
   }
  },
  {
   "cell_type": "code",
   "execution_count": 8,
   "outputs": [],
   "source": [
    "def stargate(id):\n",
    "    data = requests.get(f'https://esi.evetech.net/latest/universe/systems/{id}/?datasource=tranquility&language=en').json()\n",
    "    try:\n",
    "        return data['stargates']\n",
    "    except KeyError:\n",
    "        return []\n",
    "\n",
    "def getstargates(stargates):\n",
    "    with ThreadPoolExecutor() as tp:\n",
    "        results = tp.map(stargate,stargates)\n",
    "        rlist = [result for result in results]\n",
    "        return list(itertools.chain(*rlist))\n",
    "\n",
    "\n",
    "r = requests.get('https://esi.evetech.net/latest/universe/systems/?datasource=tranquility')\n",
    "stargates = r.json()\n",
    "gatelist = getstargates(stargates)\n",
    "df = pd.DataFrame(gatelist)\n",
    "df.columns = ['gate_id']\n",
    "df.to_sql('stargates', con = connection, index = False, if_exists='append')"
   ],
   "metadata": {
    "collapsed": false,
    "pycharm": {
     "name": "#%%\n"
    }
   }
  },
  {
   "cell_type": "markdown",
   "source": [
    "# Connections\n"
   ],
   "metadata": {
    "collapsed": false
   }
  },
  {
   "cell_type": "code",
   "execution_count": 9,
   "outputs": [],
   "source": [
    "def sconnection(id):\n",
    "    data = requests.get(f'https://esi.evetech.net/latest/universe/stargates/{id}/?datasource=tranquility').json()\n",
    "    return {\n",
    "        'source_id':data['system_id'],\n",
    "        'destination_id':data['destination']['system_id']\n",
    "    }\n",
    "\n",
    "def getconnections(stargates):\n",
    "    with ThreadPoolExecutor() as tp:\n",
    "        results = tp.map(sconnection,stargates)\n",
    "        return [result for result in results]\n",
    "\n",
    "\n",
    "stargates = connection.execute('select gate_id from stargates').fetchall()\n",
    "stargates = [y for x in stargates for y in x]\n",
    "conlist = getconnections(stargates)\n",
    "assert len(conlist) == len(stargates)\n",
    "df = pd.DataFrame(conlist)\n",
    "df.to_sql('connections', con = connection, index = False, if_exists='append')"
   ],
   "metadata": {
    "collapsed": false,
    "pycharm": {
     "name": "#%%\n"
    }
   }
  },
  {
   "cell_type": "code",
   "execution_count": 10,
   "outputs": [],
   "source": [
    "noduplicates = connection.execute('SELECT DISTINCT source_id, destination_id FROM connections t1 WHERE t1.source_id > t1.destination_id OR NOT EXISTS (SELECT * FROM connections t2 WHERE t2.source_id = t1.destination_id AND t2.destination_id = t1.source_id)').fetchall()\n",
    "df = pd.DataFrame(noduplicates)\n",
    "df.columns = ['source_id','destination_id']\n",
    "connection.execute('DELETE from connections')\n",
    "df.to_sql('connections',con = connection, index=False, if_exists='append')"
   ],
   "metadata": {
    "collapsed": false,
    "pycharm": {
     "name": "#%%\n"
    }
   }
  },
  {
   "cell_type": "code",
   "execution_count": 11,
   "outputs": [],
   "source": [
    "eve = nx.Graph()\n",
    "eve.add_edges_from(noduplicates)"
   ],
   "metadata": {
    "collapsed": false,
    "pycharm": {
     "name": "#%%\n"
    }
   }
  },
  {
   "cell_type": "code",
   "execution_count": 12,
   "outputs": [
    {
     "data": {
      "text/plain": "      system_id      system  security_status              region  npc_kills  \\\n1989   30003645      O36A-P        -0.084704               Tenal       2240   \n2321   30004206      4LNE-M        -0.566918         Cobalt Edge       1859   \n2279   30004142    Hikansog         0.811302               Kador       1314   \n195    30000242      8TPX-N        -0.437192  Vale of the Silent       1237   \n2281   30004144      Yebouz         0.882179               Kador       1200   \n...         ...         ...              ...                 ...        ...   \n532    30001198      GE-8JV        -0.209423               Catch          0   \n2697   30005005  Ignebaener        -1.000000             Pochven          0   \n530    30001196      Q-S7ZD        -0.032710               Catch          0   \n1263   30002652         Ala        -1.000000             Pochven          0   \n2617   30004809      Y-ORBJ        -0.280437           Tenerifis          0   \n\n      pod_kills  ship_kills             x             y             z  \n1989          0           0 -6.397321e+16  8.255295e+16  4.294112e+17  \n2321          1           1  2.830588e+17  5.436335e+16  2.477010e+17  \n2279          0           1 -2.352238e+17  5.373238e+16 -1.218548e+17  \n195           0           1 -7.376450e+16  1.100980e+17  1.876280e+17  \n2281          0           0 -2.347617e+17  6.249611e+16 -1.297336e+17  \n...         ...         ...           ...           ...           ...  \n532           0           7 -7.444434e+16  6.109297e+15 -2.448536e+17  \n2697          1           1 -2.382909e+17  5.558935e+16  4.385876e+16  \n530           1           1 -4.927858e+16  3.365150e+16 -2.314420e+17  \n1263          1           1 -1.747970e+17  3.572408e+16 -9.752209e+15  \n2617          1           1 -3.102091e+15  5.354639e+15 -2.598150e+17  \n\n[2992 rows x 10 columns]",
      "text/html": "<div>\n<style scoped>\n    .dataframe tbody tr th:only-of-type {\n        vertical-align: middle;\n    }\n\n    .dataframe tbody tr th {\n        vertical-align: top;\n    }\n\n    .dataframe thead th {\n        text-align: right;\n    }\n</style>\n<table border=\"1\" class=\"dataframe\">\n  <thead>\n    <tr style=\"text-align: right;\">\n      <th></th>\n      <th>system_id</th>\n      <th>system</th>\n      <th>security_status</th>\n      <th>region</th>\n      <th>npc_kills</th>\n      <th>pod_kills</th>\n      <th>ship_kills</th>\n      <th>x</th>\n      <th>y</th>\n      <th>z</th>\n    </tr>\n  </thead>\n  <tbody>\n    <tr>\n      <th>1989</th>\n      <td>30003645</td>\n      <td>O36A-P</td>\n      <td>-0.084704</td>\n      <td>Tenal</td>\n      <td>2240</td>\n      <td>0</td>\n      <td>0</td>\n      <td>-6.397321e+16</td>\n      <td>8.255295e+16</td>\n      <td>4.294112e+17</td>\n    </tr>\n    <tr>\n      <th>2321</th>\n      <td>30004206</td>\n      <td>4LNE-M</td>\n      <td>-0.566918</td>\n      <td>Cobalt Edge</td>\n      <td>1859</td>\n      <td>1</td>\n      <td>1</td>\n      <td>2.830588e+17</td>\n      <td>5.436335e+16</td>\n      <td>2.477010e+17</td>\n    </tr>\n    <tr>\n      <th>2279</th>\n      <td>30004142</td>\n      <td>Hikansog</td>\n      <td>0.811302</td>\n      <td>Kador</td>\n      <td>1314</td>\n      <td>0</td>\n      <td>1</td>\n      <td>-2.352238e+17</td>\n      <td>5.373238e+16</td>\n      <td>-1.218548e+17</td>\n    </tr>\n    <tr>\n      <th>195</th>\n      <td>30000242</td>\n      <td>8TPX-N</td>\n      <td>-0.437192</td>\n      <td>Vale of the Silent</td>\n      <td>1237</td>\n      <td>0</td>\n      <td>1</td>\n      <td>-7.376450e+16</td>\n      <td>1.100980e+17</td>\n      <td>1.876280e+17</td>\n    </tr>\n    <tr>\n      <th>2281</th>\n      <td>30004144</td>\n      <td>Yebouz</td>\n      <td>0.882179</td>\n      <td>Kador</td>\n      <td>1200</td>\n      <td>0</td>\n      <td>0</td>\n      <td>-2.347617e+17</td>\n      <td>6.249611e+16</td>\n      <td>-1.297336e+17</td>\n    </tr>\n    <tr>\n      <th>...</th>\n      <td>...</td>\n      <td>...</td>\n      <td>...</td>\n      <td>...</td>\n      <td>...</td>\n      <td>...</td>\n      <td>...</td>\n      <td>...</td>\n      <td>...</td>\n      <td>...</td>\n    </tr>\n    <tr>\n      <th>532</th>\n      <td>30001198</td>\n      <td>GE-8JV</td>\n      <td>-0.209423</td>\n      <td>Catch</td>\n      <td>0</td>\n      <td>0</td>\n      <td>7</td>\n      <td>-7.444434e+16</td>\n      <td>6.109297e+15</td>\n      <td>-2.448536e+17</td>\n    </tr>\n    <tr>\n      <th>2697</th>\n      <td>30005005</td>\n      <td>Ignebaener</td>\n      <td>-1.000000</td>\n      <td>Pochven</td>\n      <td>0</td>\n      <td>1</td>\n      <td>1</td>\n      <td>-2.382909e+17</td>\n      <td>5.558935e+16</td>\n      <td>4.385876e+16</td>\n    </tr>\n    <tr>\n      <th>530</th>\n      <td>30001196</td>\n      <td>Q-S7ZD</td>\n      <td>-0.032710</td>\n      <td>Catch</td>\n      <td>0</td>\n      <td>1</td>\n      <td>1</td>\n      <td>-4.927858e+16</td>\n      <td>3.365150e+16</td>\n      <td>-2.314420e+17</td>\n    </tr>\n    <tr>\n      <th>1263</th>\n      <td>30002652</td>\n      <td>Ala</td>\n      <td>-1.000000</td>\n      <td>Pochven</td>\n      <td>0</td>\n      <td>1</td>\n      <td>1</td>\n      <td>-1.747970e+17</td>\n      <td>3.572408e+16</td>\n      <td>-9.752209e+15</td>\n    </tr>\n    <tr>\n      <th>2617</th>\n      <td>30004809</td>\n      <td>Y-ORBJ</td>\n      <td>-0.280437</td>\n      <td>Tenerifis</td>\n      <td>0</td>\n      <td>1</td>\n      <td>1</td>\n      <td>-3.102091e+15</td>\n      <td>5.354639e+15</td>\n      <td>-2.598150e+17</td>\n    </tr>\n  </tbody>\n</table>\n<p>2992 rows × 10 columns</p>\n</div>"
     },
     "execution_count": 12,
     "metadata": {},
     "output_type": "execute_result"
    }
   ],
   "source": [
    "query = \"\"\"\n",
    "SELECT s.system_id, s.name as system, security_status, r.name as region, npc_kills, pod_kills, ship_kills, x, y, z\n",
    "FROM systems AS s\n",
    "         INNER JOIN constellations c ON c.constellation_id = s.constellation_id\n",
    "         INNER JOIN regions r ON r.region_id = c.region_id\n",
    "         INNER JOIN system_kills sk ON s.system_id = sk.system_id\n",
    "         \"\"\"\n",
    "test = connection.execute(query)\n",
    "df = pd.DataFrame(test, columns=test.keys()).sort_values(by=['npc_kills'], ascending=False)\n",
    "df"
   ],
   "metadata": {
    "collapsed": false,
    "pycharm": {
     "name": "#%%\n"
    }
   }
  },
  {
   "cell_type": "code",
   "execution_count": 13,
   "outputs": [
    {
     "data": {
      "text/plain": "    system_id         name             x             y             z\n0    30000203        Eruka -9.521840e+16  6.535627e+16  1.433769e+17\n1    30000266       Z-8Q65 -7.485899e+16  1.006970e+17  2.169115e+17\n2    30000717       Q-NA5H  1.023382e+17  1.527003e+16 -1.285482e+17\n3    30001299       D-SKWC -1.882945e+17  1.141675e+17  2.885838e+17\n4    30001308       S-1ZXZ -1.476756e+17  1.091289e+17  3.575399e+17\n5    30001387      Isikano -1.630471e+17  9.340016e+16  1.391321e+17\n6    30002083       Uisper -1.294856e+17  2.851737e+16  3.070949e+16\n7    30002096  Hofjaldgund -1.320439e+17  1.900875e+16  1.459811e+16\n8    30002217       Hutian -1.994459e+17  6.876697e+16 -1.047576e+17\n9    30002865       LEM-I1  1.091623e+17  7.145899e+16  8.188988e+16\n10   30003466     Eurgrana -1.944250e+16  4.405243e+16  4.798578e+16\n11   30003473      Fahruni -2.023876e+17  4.252911e+16 -9.045854e+15\n12   30004152      Kooreng -2.185256e+17  5.141825e+16 -8.459221e+16\n13   30004257      Hakatiz -3.636554e+17  3.879064e+16 -4.301449e+16\n14   30004818       C-FD0D  8.115914e+15  1.349033e+16 -2.665072e+17\n15   30004977     Yvangier -2.088278e+17  5.357265e+16  7.707838e+16\n16   31000592      J233129  7.810112e+18 -1.978020e+16 -9.683255e+18\n17   31001020      J220950  7.382865e+18  4.955875e+16 -9.448783e+18\n18   31001391      J165820  7.967603e+18  3.830202e+16 -9.575347e+18",
      "text/html": "<div>\n<style scoped>\n    .dataframe tbody tr th:only-of-type {\n        vertical-align: middle;\n    }\n\n    .dataframe tbody tr th {\n        vertical-align: top;\n    }\n\n    .dataframe thead th {\n        text-align: right;\n    }\n</style>\n<table border=\"1\" class=\"dataframe\">\n  <thead>\n    <tr style=\"text-align: right;\">\n      <th></th>\n      <th>system_id</th>\n      <th>name</th>\n      <th>x</th>\n      <th>y</th>\n      <th>z</th>\n    </tr>\n  </thead>\n  <tbody>\n    <tr>\n      <th>0</th>\n      <td>30000203</td>\n      <td>Eruka</td>\n      <td>-9.521840e+16</td>\n      <td>6.535627e+16</td>\n      <td>1.433769e+17</td>\n    </tr>\n    <tr>\n      <th>1</th>\n      <td>30000266</td>\n      <td>Z-8Q65</td>\n      <td>-7.485899e+16</td>\n      <td>1.006970e+17</td>\n      <td>2.169115e+17</td>\n    </tr>\n    <tr>\n      <th>2</th>\n      <td>30000717</td>\n      <td>Q-NA5H</td>\n      <td>1.023382e+17</td>\n      <td>1.527003e+16</td>\n      <td>-1.285482e+17</td>\n    </tr>\n    <tr>\n      <th>3</th>\n      <td>30001299</td>\n      <td>D-SKWC</td>\n      <td>-1.882945e+17</td>\n      <td>1.141675e+17</td>\n      <td>2.885838e+17</td>\n    </tr>\n    <tr>\n      <th>4</th>\n      <td>30001308</td>\n      <td>S-1ZXZ</td>\n      <td>-1.476756e+17</td>\n      <td>1.091289e+17</td>\n      <td>3.575399e+17</td>\n    </tr>\n    <tr>\n      <th>5</th>\n      <td>30001387</td>\n      <td>Isikano</td>\n      <td>-1.630471e+17</td>\n      <td>9.340016e+16</td>\n      <td>1.391321e+17</td>\n    </tr>\n    <tr>\n      <th>6</th>\n      <td>30002083</td>\n      <td>Uisper</td>\n      <td>-1.294856e+17</td>\n      <td>2.851737e+16</td>\n      <td>3.070949e+16</td>\n    </tr>\n    <tr>\n      <th>7</th>\n      <td>30002096</td>\n      <td>Hofjaldgund</td>\n      <td>-1.320439e+17</td>\n      <td>1.900875e+16</td>\n      <td>1.459811e+16</td>\n    </tr>\n    <tr>\n      <th>8</th>\n      <td>30002217</td>\n      <td>Hutian</td>\n      <td>-1.994459e+17</td>\n      <td>6.876697e+16</td>\n      <td>-1.047576e+17</td>\n    </tr>\n    <tr>\n      <th>9</th>\n      <td>30002865</td>\n      <td>LEM-I1</td>\n      <td>1.091623e+17</td>\n      <td>7.145899e+16</td>\n      <td>8.188988e+16</td>\n    </tr>\n    <tr>\n      <th>10</th>\n      <td>30003466</td>\n      <td>Eurgrana</td>\n      <td>-1.944250e+16</td>\n      <td>4.405243e+16</td>\n      <td>4.798578e+16</td>\n    </tr>\n    <tr>\n      <th>11</th>\n      <td>30003473</td>\n      <td>Fahruni</td>\n      <td>-2.023876e+17</td>\n      <td>4.252911e+16</td>\n      <td>-9.045854e+15</td>\n    </tr>\n    <tr>\n      <th>12</th>\n      <td>30004152</td>\n      <td>Kooreng</td>\n      <td>-2.185256e+17</td>\n      <td>5.141825e+16</td>\n      <td>-8.459221e+16</td>\n    </tr>\n    <tr>\n      <th>13</th>\n      <td>30004257</td>\n      <td>Hakatiz</td>\n      <td>-3.636554e+17</td>\n      <td>3.879064e+16</td>\n      <td>-4.301449e+16</td>\n    </tr>\n    <tr>\n      <th>14</th>\n      <td>30004818</td>\n      <td>C-FD0D</td>\n      <td>8.115914e+15</td>\n      <td>1.349033e+16</td>\n      <td>-2.665072e+17</td>\n    </tr>\n    <tr>\n      <th>15</th>\n      <td>30004977</td>\n      <td>Yvangier</td>\n      <td>-2.088278e+17</td>\n      <td>5.357265e+16</td>\n      <td>7.707838e+16</td>\n    </tr>\n    <tr>\n      <th>16</th>\n      <td>31000592</td>\n      <td>J233129</td>\n      <td>7.810112e+18</td>\n      <td>-1.978020e+16</td>\n      <td>-9.683255e+18</td>\n    </tr>\n    <tr>\n      <th>17</th>\n      <td>31001020</td>\n      <td>J220950</td>\n      <td>7.382865e+18</td>\n      <td>4.955875e+16</td>\n      <td>-9.448783e+18</td>\n    </tr>\n    <tr>\n      <th>18</th>\n      <td>31001391</td>\n      <td>J165820</td>\n      <td>7.967603e+18</td>\n      <td>3.830202e+16</td>\n      <td>-9.575347e+18</td>\n    </tr>\n  </tbody>\n</table>\n</div>"
     },
     "execution_count": 13,
     "metadata": {},
     "output_type": "execute_result"
    }
   ],
   "source": [
    "query = \"\"\"\n",
    "SELECT thera.system_id, name, x, y, z from thera\n",
    "INNER JOIN systems s ON s.system_id = thera.system_id\n",
    "\"\"\"\n",
    "theradata = connection.execute(query)\n",
    "thera = pd.DataFrame(theradata, columns= theradata.keys())\n",
    "thera"
   ],
   "metadata": {
    "collapsed": false,
    "pycharm": {
     "name": "#%%\n"
    }
   }
  },
  {
   "cell_type": "code",
   "execution_count": 14,
   "outputs": [],
   "source": [
    "closest_gate = []\n",
    "for row in df.itertuples():\n",
    "    shortest = int(10000000)\n",
    "    closest = int(0)\n",
    "    for trow in thera.itertuples():\n",
    "        try:\n",
    "            pathlength = len(nx.shortest_path(eve,source = row.system_id, target = trow.system_id))\n",
    "            if shortest > pathlength:\n",
    "                shortest = pathlength\n",
    "                closest = trow.name\n",
    "        except:\n",
    "            continue\n",
    "    closest_gate.append(\n",
    "        {\n",
    "            'closest_gate': closest,\n",
    "            'gate_distance': shortest\n",
    "        }\n",
    "    )"
   ],
   "metadata": {
    "collapsed": false,
    "pycharm": {
     "name": "#%%\n"
    }
   }
  },
  {
   "cell_type": "code",
   "execution_count": 15,
   "outputs": [
    {
     "data": {
      "text/plain": "      system_id      system  security_status              region  npc_kills  \\\n1989   30003645      O36A-P        -0.084704               Tenal       2240   \n2321   30004206      4LNE-M        -0.566918         Cobalt Edge       1859   \n2279   30004142    Hikansog         0.811302               Kador       1314   \n195    30000242      8TPX-N        -0.437192  Vale of the Silent       1237   \n2281   30004144      Yebouz         0.882179               Kador       1200   \n...         ...         ...              ...                 ...        ...   \n532    30001198      GE-8JV        -0.209423               Catch          0   \n2697   30005005  Ignebaener        -1.000000             Pochven          0   \n530    30001196      Q-S7ZD        -0.032710               Catch          0   \n1263   30002652         Ala        -1.000000             Pochven          0   \n2617   30004809      Y-ORBJ        -0.280437           Tenerifis          0   \n\n      pod_kills  ship_kills             x             y             z  \\\n1989          0           0 -6.397321e+16  8.255295e+16  4.294112e+17   \n2321          1           1  2.830588e+17  5.436335e+16  2.477010e+17   \n2279          0           1 -2.352238e+17  5.373238e+16 -1.218548e+17   \n195           0           1 -7.376450e+16  1.100980e+17  1.876280e+17   \n2281          0           0 -2.347617e+17  6.249611e+16 -1.297336e+17   \n...         ...         ...           ...           ...           ...   \n532           0           7 -7.444434e+16  6.109297e+15 -2.448536e+17   \n2697          1           1 -2.382909e+17  5.558935e+16  4.385876e+16   \n530           1           1 -4.927858e+16  3.365150e+16 -2.314420e+17   \n1263          1           1 -1.747970e+17  3.572408e+16 -9.752209e+15   \n2617          1           1 -3.102091e+15  5.354639e+15 -2.598150e+17   \n\n     closest_gate  gate_distance  \n1989       Z-8Q65             15  \n2321       Z-8Q65             16  \n2279      Kooreng              9  \n195        Z-8Q65              5  \n2281      Kooreng             11  \n...           ...            ...  \n532        C-FD0D             13  \n2697            0       10000000  \n530        C-FD0D              7  \n1263            0       10000000  \n2617       C-FD0D              4  \n\n[2992 rows x 12 columns]",
      "text/html": "<div>\n<style scoped>\n    .dataframe tbody tr th:only-of-type {\n        vertical-align: middle;\n    }\n\n    .dataframe tbody tr th {\n        vertical-align: top;\n    }\n\n    .dataframe thead th {\n        text-align: right;\n    }\n</style>\n<table border=\"1\" class=\"dataframe\">\n  <thead>\n    <tr style=\"text-align: right;\">\n      <th></th>\n      <th>system_id</th>\n      <th>system</th>\n      <th>security_status</th>\n      <th>region</th>\n      <th>npc_kills</th>\n      <th>pod_kills</th>\n      <th>ship_kills</th>\n      <th>x</th>\n      <th>y</th>\n      <th>z</th>\n      <th>closest_gate</th>\n      <th>gate_distance</th>\n    </tr>\n  </thead>\n  <tbody>\n    <tr>\n      <th>1989</th>\n      <td>30003645</td>\n      <td>O36A-P</td>\n      <td>-0.084704</td>\n      <td>Tenal</td>\n      <td>2240</td>\n      <td>0</td>\n      <td>0</td>\n      <td>-6.397321e+16</td>\n      <td>8.255295e+16</td>\n      <td>4.294112e+17</td>\n      <td>Z-8Q65</td>\n      <td>15</td>\n    </tr>\n    <tr>\n      <th>2321</th>\n      <td>30004206</td>\n      <td>4LNE-M</td>\n      <td>-0.566918</td>\n      <td>Cobalt Edge</td>\n      <td>1859</td>\n      <td>1</td>\n      <td>1</td>\n      <td>2.830588e+17</td>\n      <td>5.436335e+16</td>\n      <td>2.477010e+17</td>\n      <td>Z-8Q65</td>\n      <td>16</td>\n    </tr>\n    <tr>\n      <th>2279</th>\n      <td>30004142</td>\n      <td>Hikansog</td>\n      <td>0.811302</td>\n      <td>Kador</td>\n      <td>1314</td>\n      <td>0</td>\n      <td>1</td>\n      <td>-2.352238e+17</td>\n      <td>5.373238e+16</td>\n      <td>-1.218548e+17</td>\n      <td>Kooreng</td>\n      <td>9</td>\n    </tr>\n    <tr>\n      <th>195</th>\n      <td>30000242</td>\n      <td>8TPX-N</td>\n      <td>-0.437192</td>\n      <td>Vale of the Silent</td>\n      <td>1237</td>\n      <td>0</td>\n      <td>1</td>\n      <td>-7.376450e+16</td>\n      <td>1.100980e+17</td>\n      <td>1.876280e+17</td>\n      <td>Z-8Q65</td>\n      <td>5</td>\n    </tr>\n    <tr>\n      <th>2281</th>\n      <td>30004144</td>\n      <td>Yebouz</td>\n      <td>0.882179</td>\n      <td>Kador</td>\n      <td>1200</td>\n      <td>0</td>\n      <td>0</td>\n      <td>-2.347617e+17</td>\n      <td>6.249611e+16</td>\n      <td>-1.297336e+17</td>\n      <td>Kooreng</td>\n      <td>11</td>\n    </tr>\n    <tr>\n      <th>...</th>\n      <td>...</td>\n      <td>...</td>\n      <td>...</td>\n      <td>...</td>\n      <td>...</td>\n      <td>...</td>\n      <td>...</td>\n      <td>...</td>\n      <td>...</td>\n      <td>...</td>\n      <td>...</td>\n      <td>...</td>\n    </tr>\n    <tr>\n      <th>532</th>\n      <td>30001198</td>\n      <td>GE-8JV</td>\n      <td>-0.209423</td>\n      <td>Catch</td>\n      <td>0</td>\n      <td>0</td>\n      <td>7</td>\n      <td>-7.444434e+16</td>\n      <td>6.109297e+15</td>\n      <td>-2.448536e+17</td>\n      <td>C-FD0D</td>\n      <td>13</td>\n    </tr>\n    <tr>\n      <th>2697</th>\n      <td>30005005</td>\n      <td>Ignebaener</td>\n      <td>-1.000000</td>\n      <td>Pochven</td>\n      <td>0</td>\n      <td>1</td>\n      <td>1</td>\n      <td>-2.382909e+17</td>\n      <td>5.558935e+16</td>\n      <td>4.385876e+16</td>\n      <td>0</td>\n      <td>10000000</td>\n    </tr>\n    <tr>\n      <th>530</th>\n      <td>30001196</td>\n      <td>Q-S7ZD</td>\n      <td>-0.032710</td>\n      <td>Catch</td>\n      <td>0</td>\n      <td>1</td>\n      <td>1</td>\n      <td>-4.927858e+16</td>\n      <td>3.365150e+16</td>\n      <td>-2.314420e+17</td>\n      <td>C-FD0D</td>\n      <td>7</td>\n    </tr>\n    <tr>\n      <th>1263</th>\n      <td>30002652</td>\n      <td>Ala</td>\n      <td>-1.000000</td>\n      <td>Pochven</td>\n      <td>0</td>\n      <td>1</td>\n      <td>1</td>\n      <td>-1.747970e+17</td>\n      <td>3.572408e+16</td>\n      <td>-9.752209e+15</td>\n      <td>0</td>\n      <td>10000000</td>\n    </tr>\n    <tr>\n      <th>2617</th>\n      <td>30004809</td>\n      <td>Y-ORBJ</td>\n      <td>-0.280437</td>\n      <td>Tenerifis</td>\n      <td>0</td>\n      <td>1</td>\n      <td>1</td>\n      <td>-3.102091e+15</td>\n      <td>5.354639e+15</td>\n      <td>-2.598150e+17</td>\n      <td>C-FD0D</td>\n      <td>4</td>\n    </tr>\n  </tbody>\n</table>\n<p>2992 rows × 12 columns</p>\n</div>"
     },
     "execution_count": 15,
     "metadata": {},
     "output_type": "execute_result"
    }
   ],
   "source": [
    "len(closest_gate)\n",
    "df['closest_gate'] = [x['closest_gate'] for x in closest_gate]\n",
    "df['gate_distance'] = [x['gate_distance'] for x in closest_gate]\n",
    "df"
   ],
   "metadata": {
    "collapsed": false,
    "pycharm": {
     "name": "#%%\n"
    }
   }
  },
  {
   "cell_type": "code",
   "execution_count": 16,
   "outputs": [],
   "source": [
    "def distance(curloc, otherloc):\n",
    "    dist = math.sqrt(\n",
    "        (curloc[0] - otherloc[0]) ** 2 + (curloc[1] - otherloc[1]) ** 2 + (curloc[2] - otherloc[2]) ** 2)\n",
    "    return dist / 149597870691 / 63239.6717\n",
    "\n",
    "\n",
    "def closestly(indf,thera):\n",
    "    dists = []\n",
    "    names = []\n",
    "    for tup in indf.itertuples():\n",
    "        tempdist = []\n",
    "        tempname = []\n",
    "        for tup2 in thera.itertuples():\n",
    "            tempdist.append(distance((tup.x, tup.y, tup.z), (tup2.x, tup2.y, tup2.z)))\n",
    "            tempname.append(tup2.name)\n",
    "        smallest = tempdist.index(min(tempdist))\n",
    "        dists.append(tempdist[smallest])\n",
    "        names.append(tempname[smallest])\n",
    "\n",
    "    return names, dists"
   ],
   "metadata": {
    "collapsed": false,
    "pycharm": {
     "name": "#%%\n"
    }
   }
  },
  {
   "cell_type": "code",
   "execution_count": 17,
   "outputs": [
    {
     "data": {
      "text/plain": "          system              region  npc_kills  pod_kills  ship_kills  \\\n1989      O36A-P               Tenal       2240          0           0   \n2321      4LNE-M         Cobalt Edge       1859          1           1   \n2279    Hikansog               Kador       1314          0           1   \n195       8TPX-N  Vale of the Silent       1237          0           1   \n2281      Yebouz               Kador       1200          0           0   \n...          ...                 ...        ...        ...         ...   \n532       GE-8JV               Catch          0          0           7   \n2697  Ignebaener             Pochven          0          1           1   \n530       Q-S7ZD               Catch          0          1           1   \n1263         Ala             Pochven          0          1           1   \n2617      Y-ORBJ           Tenerifis          0          1           1   \n\n     closest_gate  gate_distance closest_ly  distance_ly  \n1989       Z-8Q65             15     S-1ZXZ    11.995180  \n2321       Z-8Q65             16     LEM-I1    25.462134  \n2279      Kooreng              9    Kooreng     4.323074  \n195        Z-8Q65              5     Z-8Q65     3.252999  \n2281      Kooreng             11     Hutian     4.619967  \n...           ...            ...        ...          ...  \n532        C-FD0D             13     C-FD0D     9.055654  \n2697            0       10000000   Yvangier     4.698334  \n530        C-FD0D              7     C-FD0D     7.421912  \n1263            0       10000000    Fahruni     3.004714  \n2617       C-FD0D              4     C-FD0D     1.626644  \n\n[2992 rows x 9 columns]",
      "text/html": "<div>\n<style scoped>\n    .dataframe tbody tr th:only-of-type {\n        vertical-align: middle;\n    }\n\n    .dataframe tbody tr th {\n        vertical-align: top;\n    }\n\n    .dataframe thead th {\n        text-align: right;\n    }\n</style>\n<table border=\"1\" class=\"dataframe\">\n  <thead>\n    <tr style=\"text-align: right;\">\n      <th></th>\n      <th>system</th>\n      <th>region</th>\n      <th>npc_kills</th>\n      <th>pod_kills</th>\n      <th>ship_kills</th>\n      <th>closest_gate</th>\n      <th>gate_distance</th>\n      <th>closest_ly</th>\n      <th>distance_ly</th>\n    </tr>\n  </thead>\n  <tbody>\n    <tr>\n      <th>1989</th>\n      <td>O36A-P</td>\n      <td>Tenal</td>\n      <td>2240</td>\n      <td>0</td>\n      <td>0</td>\n      <td>Z-8Q65</td>\n      <td>15</td>\n      <td>S-1ZXZ</td>\n      <td>11.995180</td>\n    </tr>\n    <tr>\n      <th>2321</th>\n      <td>4LNE-M</td>\n      <td>Cobalt Edge</td>\n      <td>1859</td>\n      <td>1</td>\n      <td>1</td>\n      <td>Z-8Q65</td>\n      <td>16</td>\n      <td>LEM-I1</td>\n      <td>25.462134</td>\n    </tr>\n    <tr>\n      <th>2279</th>\n      <td>Hikansog</td>\n      <td>Kador</td>\n      <td>1314</td>\n      <td>0</td>\n      <td>1</td>\n      <td>Kooreng</td>\n      <td>9</td>\n      <td>Kooreng</td>\n      <td>4.323074</td>\n    </tr>\n    <tr>\n      <th>195</th>\n      <td>8TPX-N</td>\n      <td>Vale of the Silent</td>\n      <td>1237</td>\n      <td>0</td>\n      <td>1</td>\n      <td>Z-8Q65</td>\n      <td>5</td>\n      <td>Z-8Q65</td>\n      <td>3.252999</td>\n    </tr>\n    <tr>\n      <th>2281</th>\n      <td>Yebouz</td>\n      <td>Kador</td>\n      <td>1200</td>\n      <td>0</td>\n      <td>0</td>\n      <td>Kooreng</td>\n      <td>11</td>\n      <td>Hutian</td>\n      <td>4.619967</td>\n    </tr>\n    <tr>\n      <th>...</th>\n      <td>...</td>\n      <td>...</td>\n      <td>...</td>\n      <td>...</td>\n      <td>...</td>\n      <td>...</td>\n      <td>...</td>\n      <td>...</td>\n      <td>...</td>\n    </tr>\n    <tr>\n      <th>532</th>\n      <td>GE-8JV</td>\n      <td>Catch</td>\n      <td>0</td>\n      <td>0</td>\n      <td>7</td>\n      <td>C-FD0D</td>\n      <td>13</td>\n      <td>C-FD0D</td>\n      <td>9.055654</td>\n    </tr>\n    <tr>\n      <th>2697</th>\n      <td>Ignebaener</td>\n      <td>Pochven</td>\n      <td>0</td>\n      <td>1</td>\n      <td>1</td>\n      <td>0</td>\n      <td>10000000</td>\n      <td>Yvangier</td>\n      <td>4.698334</td>\n    </tr>\n    <tr>\n      <th>530</th>\n      <td>Q-S7ZD</td>\n      <td>Catch</td>\n      <td>0</td>\n      <td>1</td>\n      <td>1</td>\n      <td>C-FD0D</td>\n      <td>7</td>\n      <td>C-FD0D</td>\n      <td>7.421912</td>\n    </tr>\n    <tr>\n      <th>1263</th>\n      <td>Ala</td>\n      <td>Pochven</td>\n      <td>0</td>\n      <td>1</td>\n      <td>1</td>\n      <td>0</td>\n      <td>10000000</td>\n      <td>Fahruni</td>\n      <td>3.004714</td>\n    </tr>\n    <tr>\n      <th>2617</th>\n      <td>Y-ORBJ</td>\n      <td>Tenerifis</td>\n      <td>0</td>\n      <td>1</td>\n      <td>1</td>\n      <td>C-FD0D</td>\n      <td>4</td>\n      <td>C-FD0D</td>\n      <td>1.626644</td>\n    </tr>\n  </tbody>\n</table>\n<p>2992 rows × 9 columns</p>\n</div>"
     },
     "execution_count": 17,
     "metadata": {},
     "output_type": "execute_result"
    }
   ],
   "source": [
    "df['closest_ly'], df['distance_ly'] = closestly(df,thera)\n",
    "df[['system','region','npc_kills','pod_kills','ship_kills','closest_gate','gate_distance','closest_ly','distance_ly']]\n",
    "\n"
   ],
   "metadata": {
    "collapsed": false,
    "pycharm": {
     "name": "#%%\n"
    }
   }
  }
 ],
 "metadata": {
  "kernelspec": {
   "display_name": "Python 3",
   "language": "python",
   "name": "python3"
  },
  "language_info": {
   "codemirror_mode": {
    "name": "ipython",
    "version": 2
   },
   "file_extension": ".py",
   "mimetype": "text/x-python",
   "name": "python",
   "nbconvert_exporter": "python",
   "pygments_lexer": "ipython2",
   "version": "2.7.6"
  }
 },
 "nbformat": 4,
 "nbformat_minor": 0
}